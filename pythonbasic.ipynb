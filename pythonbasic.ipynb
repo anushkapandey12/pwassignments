{
  "nbformat": 4,
  "nbformat_minor": 0,
  "metadata": {
    "colab": {
      "provenance": [],
      "authorship_tag": "ABX9TyOxysFh389WthEahhn70LwL",
      "include_colab_link": true
    },
    "kernelspec": {
      "name": "python3",
      "display_name": "Python 3"
    },
    "language_info": {
      "name": "python"
    }
  },
  "cells": [
    {
      "cell_type": "markdown",
      "metadata": {
        "id": "view-in-github",
        "colab_type": "text"
      },
      "source": [
        "<a href=\"https://colab.research.google.com/github/anushkapandey12/pwassignments/blob/main/pythonbasic.ipynb\" target=\"_parent\"><img src=\"https://colab.research.google.com/assets/colab-badge.svg\" alt=\"Open In Colab\"/></a>"
      ]
    },
    {
      "cell_type": "markdown",
      "source": [
        "1. What is Python, and why is it popular?\n",
        "- Python is a programming language that is easy to understand and write, making it a popular choice among developers and programmers.\n",
        "- It is popular because of its compatibility with various programming paradigms, such as procedural, object-oriented, and functional programming. It has a large and active community of developers, an extensive standard library, and third-party packages for various domains.\n",
        "2. What is an interpreter in Python?\n",
        "-  Interpreters are the computer program that will convert the source code or an high level language into intermediate code (machine level language).\n",
        "- A Python interpreter is a computer program that takes the Python code and converts it into machine code.\n",
        "3. What are pre-defined keywords in Python?\n",
        "- Keywords are reserved words in Python that have special meanings.  \n",
        "- Examples of keywords include if, else, while, for, def, class, import, try, except, return, True, False, None, etc.\n",
        "- They are case-sensitive and cannot be redefined or overridden within a Python program.\n",
        "4. Can keywords be used as variable names?\n",
        "- No, keywords have special meanings and cannot be used as identifiers (variable names, function names, etc.).\n",
        "5. What is mutability in Python?\n",
        "- Mutable objects, such as lists and dictionaries, can be modified after creation.\n",
        "- Mutability affects how objects are stored and manipulated in memory, impacting performance, memory usage, and concurrency in Python programs.\n",
        "6.  Why are lists mutable, but tuples are immutable?\n",
        "- Lists are mutable because their content can be modified and tuples are immutable because once created their content cannot be modified or changed.\n",
        "7.  What is the difference between “==” and “is” operators in Python?\n",
        "- In Python, '==' and 'is' operators are both used for comparison but they serve different purposes.\n",
        "- The '==' operator checks for equality of values which means it evaluates whether the values of two objects are the same.\n",
        "- On the other hand, 'is' operator checks for identity, meaning it determines whether two variables point to the same object in memory.\n",
        "8. What are logical operators in Python?\n",
        "- Python logical operators are used to combine conditional statements, allowing you to perform operations based on multiple conditions. These Python operators, alongside arithmetic operators, are special symbols used to carry out computations on values and variables.\n",
        "- Logical operators are used on conditional statements (either True or False). They perform Logical AND, Logical OR, and Logical NOT operations.\n",
        "9. What is type casting in Python?\n",
        "- Type casting, also referred to as type conversion, is the process of changing one data type to another in Python.\n",
        "- Python provides built-in functions for type casting, such as int(), float(), str(), list(), tuple(), dict(), etc.\n",
        "10. What is the difference between implicit and explicit type casting?\n",
        "- In implicit type casting, the programming language automatically converts data from one type to another if needed.\n",
        "- Example: int num_int = 10;\n",
        "float num_float = num_int;  // Implicitly converts integer to float\n",
        "- Explicit type casting, also known as type conversion or type coercion, occurs when the programmer explicitly converts a value from one data type to another.\n",
        "- Examples: int num_int = 10;\n",
        "float num_float = static_cast<float>(num_int);  // Explicitly casts integer to float\n",
        "11. What is the purpose of conditional statements in Python?\n",
        "- Conditionals in Python are used to execute code based on the evaluation of one or more conditions.\n",
        "- Python supports conditional statements such as if, elif (else if), and else to control the flow of execution.\n",
        "12. How does the elif statement work?\n",
        "- The if-elif statement is shortcut of if..else chain. While using if-elif statement at the end else block is added which is performed if none of the above if-elif statement is true.\n",
        "13. What is the difference between for and while loops?\n",
        "- “for” loops are used for iterating over a sequence of elements, while “while” loops are used for executing code until a specified condition becomes False.\n",
        "14.  Describe a scenario where a while loop is more suitable than a for loop.\n",
        "- While loops are best suited when you do not know ahead of time the number of iterations that you need to do. When you know this before entering the loop you can use for loop.\n"
      ],
      "metadata": {
        "id": "FkRxGHxlyH82"
      }
    },
    {
      "cell_type": "code",
      "source": [
        "sum=0\n",
        "for i in range(1,51,2):\n",
        "  sum= sum+i\n",
        "print(sum)"
      ],
      "metadata": {
        "colab": {
          "base_uri": "https://localhost:8080/"
        },
        "id": "3rsSc1zb-iie",
        "outputId": "a7c1bb3f-062c-4744-ae82-331e4129093d"
      },
      "execution_count": null,
      "outputs": [
        {
          "output_type": "stream",
          "name": "stdout",
          "text": [
            "625\n"
          ]
        }
      ]
    },
    {
      "cell_type": "markdown",
      "source": [
        "1.  Write a Python program to print \"Hello, World!\"\n"
      ],
      "metadata": {
        "id": "NONPptte_QQk"
      }
    },
    {
      "cell_type": "code",
      "source": [
        "print (\"Hello, World!\")"
      ],
      "metadata": {
        "colab": {
          "base_uri": "https://localhost:8080/"
        },
        "id": "DLfmYsEM_Vs_",
        "outputId": "9c82b78a-e8f9-47c4-f945-cde29cd790c3"
      },
      "execution_count": null,
      "outputs": [
        {
          "output_type": "stream",
          "name": "stdout",
          "text": [
            "Hello, World!\n"
          ]
        }
      ]
    },
    {
      "cell_type": "markdown",
      "source": [
        "2.  Write a Python program that displays your name and age.\n"
      ],
      "metadata": {
        "id": "qOPOZFbh_e1P"
      }
    },
    {
      "cell_type": "code",
      "source": [
        "name = input(\"Enter your name: \")\n",
        "age = int(input(\"Enter your age: \"))\n",
        "print(\"Name:\", name)\n",
        "print(\"Age:\", age)"
      ],
      "metadata": {
        "colab": {
          "base_uri": "https://localhost:8080/"
        },
        "id": "7oL2s3Ad_tN7",
        "outputId": "6e9f17e1-8312-49b0-8b37-31e28f7a6d28"
      },
      "execution_count": null,
      "outputs": [
        {
          "output_type": "stream",
          "name": "stdout",
          "text": [
            "Enter your name: Anushka\n",
            "Enter your age: 21\n",
            "Name: Anushka\n",
            "Age: 21\n"
          ]
        }
      ]
    },
    {
      "cell_type": "markdown",
      "source": [
        "3. Write code to print all the pre-defined keywords in Python using the keyword library.\n",
        "\n",
        "\n",
        "\n"
      ],
      "metadata": {
        "id": "eXiFw1-N_1e0"
      }
    },
    {
      "cell_type": "code",
      "source": [
        "import keyword\n",
        "print(keyword.kwlist)"
      ],
      "metadata": {
        "colab": {
          "base_uri": "https://localhost:8080/"
        },
        "id": "czV--rqOAyJe",
        "outputId": "9c1d2325-cca0-45f4-b71f-9b6e758e84b4"
      },
      "execution_count": null,
      "outputs": [
        {
          "output_type": "stream",
          "name": "stdout",
          "text": [
            "['False', 'None', 'True', 'and', 'as', 'assert', 'async', 'await', 'break', 'class', 'continue', 'def', 'del', 'elif', 'else', 'except', 'finally', 'for', 'from', 'global', 'if', 'import', 'in', 'is', 'lambda', 'nonlocal', 'not', 'or', 'pass', 'raise', 'return', 'try', 'while', 'with', 'yield']\n"
          ]
        }
      ]
    },
    {
      "cell_type": "markdown",
      "source": [
        "4. Write a program that checks if a given word is a Python keyword.\n"
      ],
      "metadata": {
        "id": "XK6BBsBBA1Ti"
      }
    },
    {
      "cell_type": "code",
      "source": [
        "word= input(\"Enter a word: \")\n",
        "if keyword.iskeyword(word):\n",
        "  print(word, \"is a keyword\")\n",
        "else:\n",
        "  print(word, \"is not a keyword\")"
      ],
      "metadata": {
        "colab": {
          "base_uri": "https://localhost:8080/"
        },
        "id": "UiLNaHDJA_Sv",
        "outputId": "c20d2cb4-601e-4fce-8795-4e9d824ccc67"
      },
      "execution_count": null,
      "outputs": [
        {
          "output_type": "stream",
          "name": "stdout",
          "text": [
            "Enter a word: True\n",
            "True is a keyword\n"
          ]
        }
      ]
    },
    {
      "cell_type": "markdown",
      "source": [
        "5. Create a list and tuple in Python, and demonstrate how attempting to change an element works differently\n",
        "for each.\n"
      ],
      "metadata": {
        "id": "hv-rFoqGBMAr"
      }
    },
    {
      "cell_type": "code",
      "source": [
        "newlist = ['flower', 'banana', 'protien', 'workout' , 'jaggery']\n",
        "mytuple = (\"flower\", 'banana', 'protien', 'workout' , 'jaggery')\n",
        "print(\"The list is\" , newlist)\n",
        "print(\"The tuple is\" , mytuple)\n",
        "newlist[1] = 'apple'\n",
        "mytuple[1] = 'apple'\n",
        "print(\"The changed list is\" , newlist)\n",
        "print(\"The changed tuple is\" , mytuple)\n"
      ],
      "metadata": {
        "id": "O241dkRHBaE0",
        "colab": {
          "base_uri": "https://localhost:8080/",
          "height": 245
        },
        "outputId": "66841866-0636-4a6e-a077-4b5c6877eac9"
      },
      "execution_count": null,
      "outputs": [
        {
          "output_type": "stream",
          "name": "stdout",
          "text": [
            "The list is ['flower', 'banana', 'protien', 'workout', 'jaggery']\n",
            "The tuple is ('flower', 'banana', 'protien', 'workout', 'jaggery')\n"
          ]
        },
        {
          "output_type": "error",
          "ename": "TypeError",
          "evalue": "'tuple' object does not support item assignment",
          "traceback": [
            "\u001b[0;31m---------------------------------------------------------------------------\u001b[0m",
            "\u001b[0;31mTypeError\u001b[0m                                 Traceback (most recent call last)",
            "\u001b[0;32m<ipython-input-1-cebcb11d0948>\u001b[0m in \u001b[0;36m<cell line: 0>\u001b[0;34m()\u001b[0m\n\u001b[1;32m      4\u001b[0m \u001b[0mprint\u001b[0m\u001b[0;34m(\u001b[0m\u001b[0;34m\"The tuple is\"\u001b[0m \u001b[0;34m,\u001b[0m \u001b[0mmytuple\u001b[0m\u001b[0;34m)\u001b[0m\u001b[0;34m\u001b[0m\u001b[0;34m\u001b[0m\u001b[0m\n\u001b[1;32m      5\u001b[0m \u001b[0mnewlist\u001b[0m\u001b[0;34m[\u001b[0m\u001b[0;36m1\u001b[0m\u001b[0;34m]\u001b[0m \u001b[0;34m=\u001b[0m \u001b[0;34m'apple'\u001b[0m\u001b[0;34m\u001b[0m\u001b[0;34m\u001b[0m\u001b[0m\n\u001b[0;32m----> 6\u001b[0;31m \u001b[0mmytuple\u001b[0m\u001b[0;34m[\u001b[0m\u001b[0;36m1\u001b[0m\u001b[0;34m]\u001b[0m \u001b[0;34m=\u001b[0m \u001b[0;34m'apple'\u001b[0m\u001b[0;34m\u001b[0m\u001b[0;34m\u001b[0m\u001b[0m\n\u001b[0m\u001b[1;32m      7\u001b[0m \u001b[0mprint\u001b[0m\u001b[0;34m(\u001b[0m\u001b[0;34m\"The changed list is\"\u001b[0m \u001b[0;34m,\u001b[0m \u001b[0mnewlist\u001b[0m\u001b[0;34m)\u001b[0m\u001b[0;34m\u001b[0m\u001b[0;34m\u001b[0m\u001b[0m\n\u001b[1;32m      8\u001b[0m \u001b[0mprint\u001b[0m\u001b[0;34m(\u001b[0m\u001b[0;34m\"The changed tuple is\"\u001b[0m \u001b[0;34m,\u001b[0m \u001b[0mmytuple\u001b[0m\u001b[0;34m)\u001b[0m\u001b[0;34m\u001b[0m\u001b[0;34m\u001b[0m\u001b[0m\n",
            "\u001b[0;31mTypeError\u001b[0m: 'tuple' object does not support item assignment"
          ]
        }
      ]
    },
    {
      "cell_type": "markdown",
      "source": [
        "In this code we can clearly see the the list items can be changed or modified, but  tuple does not allow itme changes or modification.\n",
        "\n",
        "\n",
        "6. 7.  Write a function to demonstrate the behavior of mutable and immutable arguments.\n"
      ],
      "metadata": {
        "id": "6Ty3xXV66wNw"
      }
    },
    {
      "cell_type": "code",
      "source": [
        "dont know funtion yet"
      ],
      "metadata": {
        "id": "IK9O_Vz99bgH"
      },
      "execution_count": null,
      "outputs": []
    },
    {
      "cell_type": "markdown",
      "source": [
        "8. Write a program to demonstrate the use of logical operators.\n"
      ],
      "metadata": {
        "id": "PxRJ2MPLkQYu"
      }
    },
    {
      "cell_type": "code",
      "source": [
        "a, b, c = True, False, True\n",
        "if a and c:\n",
        "    print(\"Both a and c are True (AND condition).\")\n",
        "if b or c:\n",
        "    print(\"Either b or c is True (OR condition).\")\n",
        "if not b:\n",
        "    print(\"b is False (NOT condition).\")\n",
        ""
      ],
      "metadata": {
        "colab": {
          "base_uri": "https://localhost:8080/"
        },
        "id": "y8JanZTTrIrx",
        "outputId": "a70b0504-e3b6-4ce7-b6a9-7e969f89bfe4"
      },
      "execution_count": 1,
      "outputs": [
        {
          "output_type": "stream",
          "name": "stdout",
          "text": [
            "Both a and c are True (AND condition).\n",
            "Either b or c is True (OR condition).\n",
            "b is False (NOT condition).\n"
          ]
        }
      ]
    },
    {
      "cell_type": "markdown",
      "source": [
        "9. Write a Python program to convert user input from string to integer, float, and boolean types.\n"
      ],
      "metadata": {
        "id": "iw0glrRNrUml"
      }
    },
    {
      "cell_type": "code",
      "source": [
        "a = input (\"Enter any numerical value:\") #if enterted non numberical then there will be error\n",
        "b = int(a)\n",
        "c = float(a)\n",
        "d = bool(a)\n",
        "print(\"The value of a is now converted to integer and the datatype now is\" ,type(b))\n",
        "print(\"The value of a is now converted to float and the datatype now is\" ,type(c))\n",
        "print(\"The value of a is now converted to boolean and the datatype now is\" ,type(d))"
      ],
      "metadata": {
        "colab": {
          "base_uri": "https://localhost:8080/"
        },
        "id": "IHUzfP9WrgZk",
        "outputId": "afe0a3af-7c5a-4a83-e50f-84c1181d2ebf"
      },
      "execution_count": 4,
      "outputs": [
        {
          "output_type": "stream",
          "name": "stdout",
          "text": [
            "Enter any value:10\n",
            "The value of a is now converted to integer and the datatype now is <class 'int'>\n",
            "The value of a is now converted to float and the datatype now is <class 'float'>\n",
            "The value of a is now converted to boolean and the datatype now is <class 'bool'>\n"
          ]
        }
      ]
    },
    {
      "cell_type": "markdown",
      "source": [
        "10.  Write code to demonstrate type casting with list elements.\n"
      ],
      "metadata": {
        "id": "Lv6oyDGPslBv"
      }
    },
    {
      "cell_type": "code",
      "source": [
        "my_list = [10, 3.14, \"hello\", True]\n",
        "\n",
        "int_element = int(my_list[0])\n",
        "float_element = float(my_list[1])\n",
        "string_element = str(my_list[2])\n",
        "bool_element = bool(my_list[3])\n",
        "\n",
        "print(f\"Original list: {my_list}\")\n",
        "print(f\"Integer element: {int_element}, type: {type(int_element)}\")\n",
        "print(f\"Float element: {float_element}, type: {type(float_element)}\")\n",
        "print(f\"String element: {string_element}, type: {type(string_element)}\")\n",
        "print(f\"Boolean element: {bool_element}, type: {type(bool_element)}\")"
      ],
      "metadata": {
        "colab": {
          "base_uri": "https://localhost:8080/"
        },
        "id": "XiCBQwlkspJy",
        "outputId": "399d573e-80d5-4a8d-b5ad-9bbbb7cedf63"
      },
      "execution_count": 7,
      "outputs": [
        {
          "output_type": "stream",
          "name": "stdout",
          "text": [
            "Original list: [10, 3.14, 'hello', True]\n",
            "Integer element: 10, type: <class 'int'>\n",
            "Float element: 3.14, type: <class 'float'>\n",
            "String element: hello, type: <class 'str'>\n",
            "Boolean element: True, type: <class 'bool'>\n"
          ]
        }
      ]
    },
    {
      "cell_type": "markdown",
      "source": [
        "11. Write a program that checks if a number is positive, negative, or zero."
      ],
      "metadata": {
        "id": "B4R26wNdt99R"
      }
    },
    {
      "cell_type": "code",
      "source": [
        "n = int(input(\"Enter a number: \"))\n",
        "if n > 0:\n",
        "    print(\"The number is positive.\")\n",
        "elif n < 0:\n",
        "    print(\"The number is negative.\")\n",
        "else:\n",
        "    print(\"The number is zero.\")"
      ],
      "metadata": {
        "colab": {
          "base_uri": "https://localhost:8080/"
        },
        "id": "D39nxPunuCae",
        "outputId": "a2914a4c-6fac-4d2d-c461-c4d04318e019"
      },
      "execution_count": 8,
      "outputs": [
        {
          "output_type": "stream",
          "name": "stdout",
          "text": [
            "Enter a number: 45\n",
            "The number is positive.\n"
          ]
        }
      ]
    },
    {
      "cell_type": "markdown",
      "source": [
        "12.   Write a for loop to print numbers from 1 to 10.\n"
      ],
      "metadata": {
        "id": "GncTpFx4uIiJ"
      }
    },
    {
      "cell_type": "code",
      "source": [
        "for i in range (1,11):\n",
        "  print(i)"
      ],
      "metadata": {
        "colab": {
          "base_uri": "https://localhost:8080/"
        },
        "id": "KUA1gOZeuOzK",
        "outputId": "726c7c4f-ae78-490f-896f-8df86199ad06"
      },
      "execution_count": 14,
      "outputs": [
        {
          "output_type": "stream",
          "name": "stdout",
          "text": [
            "1\n",
            "2\n",
            "3\n",
            "4\n",
            "5\n",
            "6\n",
            "7\n",
            "8\n",
            "9\n",
            "10\n"
          ]
        }
      ]
    },
    {
      "cell_type": "markdown",
      "source": [
        "13. Write a Python program to find the sum of all even numbers between 1 and 50.\n"
      ],
      "metadata": {
        "id": "uTTm4MMku1PM"
      }
    },
    {
      "cell_type": "code",
      "source": [
        "sum = 0\n",
        "for i in range(1,51,2):\n",
        "  sum+=i\n",
        "print(sum)"
      ],
      "metadata": {
        "colab": {
          "base_uri": "https://localhost:8080/"
        },
        "id": "mkwQXLoQvCMS",
        "outputId": "4d2f4d25-e8b8-4adc-841d-711ed5198e04"
      },
      "execution_count": 16,
      "outputs": [
        {
          "output_type": "stream",
          "name": "stdout",
          "text": [
            "625\n"
          ]
        }
      ]
    },
    {
      "cell_type": "markdown",
      "source": [
        "14. Write a program to reverse a string using a while loop.\n"
      ],
      "metadata": {
        "id": "MmRKnCbEvNAX"
      }
    },
    {
      "cell_type": "code",
      "source": [
        "string = 'hello world'\n",
        "i = string\n",
        "reverse = ''\n",
        "while(len(i) > 0):\n",
        "   if(len(i) > 0):\n",
        "      a = i[-1]\n",
        "      i = i[:-1]\n",
        "      reverse += a\n",
        "print(\"The string is\" ,string)\n",
        "print('The reverse string is', reverse)"
      ],
      "metadata": {
        "colab": {
          "base_uri": "https://localhost:8080/"
        },
        "id": "VmbB8o0cvUce",
        "outputId": "f4e0eb03-0d44-42bc-d4a4-73e6aa49ea15"
      },
      "execution_count": 17,
      "outputs": [
        {
          "output_type": "stream",
          "name": "stdout",
          "text": [
            "The string is hello world\n",
            "The reverse string is dlrow olleh\n"
          ]
        }
      ]
    },
    {
      "cell_type": "markdown",
      "source": [
        "15. Write a Python program to calculate the factorial of a number provided by the user using a while loop.\n"
      ],
      "metadata": {
        "id": "B1XJMGU6wA7y"
      }
    },
    {
      "cell_type": "code",
      "source": [
        "fact = 1\n",
        "n = int(input(\"Enter the number you want to calculate the factorial for:\"))\n",
        "for i in range (1,n+1):\n",
        "  fact = fact*(i)\n",
        "print(\"The factorial of\", n, \"is\", fact)\n"
      ],
      "metadata": {
        "colab": {
          "base_uri": "https://localhost:8080/"
        },
        "id": "9uxhUkoIwGNd",
        "outputId": "73804ce6-9aa7-47d5-984c-5869f49f9c29"
      },
      "execution_count": 22,
      "outputs": [
        {
          "output_type": "stream",
          "name": "stdout",
          "text": [
            "Enter the number you want to calculate the factorial for:6\n",
            "The factorial of 6 is 720\n"
          ]
        }
      ]
    }
  ]
}