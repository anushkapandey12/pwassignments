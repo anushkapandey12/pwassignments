{
  "nbformat": 4,
  "nbformat_minor": 0,
  "metadata": {
    "colab": {
      "provenance": [],
      "authorship_tag": "ABX9TyOi436Fo+/iDs9l7dvEWC88",
      "include_colab_link": true
    },
    "kernelspec": {
      "name": "python3",
      "display_name": "Python 3"
    },
    "language_info": {
      "name": "python"
    }
  },
  "cells": [
    {
      "cell_type": "markdown",
      "metadata": {
        "id": "view-in-github",
        "colab_type": "text"
      },
      "source": [
        "<a href=\"https://colab.research.google.com/github/anushkapandey12/pwassignments/blob/main/DatatypeandStructures_.ipynb\" target=\"_parent\"><img src=\"https://colab.research.google.com/assets/colab-badge.svg\" alt=\"Open In Colab\"/></a>"
      ]
    },
    {
      "cell_type": "code",
      "execution_count": null,
      "metadata": {
        "id": "vxULzquiFLgi"
      },
      "outputs": [],
      "source": []
    },
    {
      "cell_type": "markdown",
      "source": [
        "1. What are data structures, and why are they important?\n",
        "- Data structures are specialized formats for organizing, storing, and accessing collections of data. They provide efficient ways to manage information based on its characteristics and intended use.\n",
        "- They are important because choosing the right data structure significantly impacts the efficiency and performance of your program. A well-chosen data structures can simplify data manipulation (adding, removing, modifying elements), optimize searching and sorting operations and conserve memory usage.\n",
        "\n",
        "2. Explain the difference between mutable and immutable data types with examples?\n",
        "- Mutable Data Types: These are the type of data types which can be modified or changed.\n",
        "E,g : Lists.\n",
        "- Immutable Data Types - Theee are the types of datatypes whose values cannot be modified or changed. E.g - Tuple.\n",
        "\n",
        "3. What are the main differences between lists and tuples in Python?\n",
        "- Lists are mutable collections of elements i.e., you can add, remove, or modify elements within a list using indexing and slicing.\n",
        "- Tuples are immutable collections of elements i.e., you can access elements using indexing and slicing, but you cannot modify the content.\n",
        "\n",
        "4. Describe how dictionaries store data?\n",
        "- Elements are not stored in a specific order.\n",
        "- Each element holds a unique key and a tag representing the value.\n",
        "- You can quickly find value by looking up the corresponding key.\n",
        "5. Why might you use a set instead of a list in Python?\n",
        "- Searching for an element in a list requires scanning through the list element by element. In contrast, sets use a hash table to store elements. When you perform a membership test (x in set), Python directly calculates the hash value of x and checks if it exists in the hash table.\n",
        "6. What is a string in Python, and how is it different from a list?\n",
        "- Strings are characters arranged in an unchangeable order.\n",
        "- Strings are immutable, meaning once you create a string, you cannot change it whereas lists are mutable having collections that might change.\n",
        "- Strings only contain characters whereas Lists can contain anything.\n",
        "\n",
        "7. How do tuples ensure data integrity in Python?\n",
        "-  Tuples are immutable collections of elements. Once created, the items in a tuple cannot be changed. This provides a secure way to store data that shouldn't be modified.\n",
        "\n",
        "8. What is a hash table, and how does it relate to dictionaries in Python?\n",
        "- A Hash table is defined as a data structure used to insert, look up, and remove key-value pairs quickly. It operates on the hashing concept, where each key is translated by a hash function into a distinct index in an array. The index functions as a storage location for the matching value. In simple words, it maps the keys with the value.\n",
        "- Both dictionary and hash table pair keys to value in order to have fast big operations while insertion or deletion or lookups.\n",
        "\n",
        "9. Can lists contain different data types in Python?\n",
        "- Lists can hold items of various data types (numbers, strings, even other lists).\n",
        "\n",
        "10. Explain why strings are immutable in Python.\n",
        "\n",
        "- In Python, strings are sequences of characters enclosed within single (’ ‘) or double (\" “) quotes.\n",
        "-  This means that once a string is created, its content cannot be altered directly. You can’t change individual characters within a string.\n",
        "\n",
        "11.  What advantages do dictionaries offer over lists for certain tasks?\n",
        "\n",
        "- Dictionarys have two parts to every entry the key and the value and these are stored as pairs. This can give you more flexibility when storing data. The primary advantage would be retrieving stored values as it is much simpler to search through a dictionary through the key.\n",
        "\n",
        "12. Describe a scenario where using a tuple would be preferable over a list.\n",
        "\n",
        "- Tuples are useful for representing fixed datasets or configurations. The stored data cannot be removed or modified ensuring their privacy which is not possible in lists.\n",
        "\n",
        "\n",
        "13. How do sets handle duplicate values in Python?\n",
        "- Duplicate entries are not allowed in Sets and duplicates are removed if any is found.\n",
        "\n",
        "14. How does the “in” keyword work differently for lists and dictionaries?\n",
        "- The in operator tells you whether something appears as a key in the dictionary. It returns two values True or False.\n",
        "- For lists, the in operator uses a search algorithm. As the list gets longer, the search time gets longer in direct proportion.\n",
        "- For dictionaries, Python uses an algorithm called a hashtable that has a remarkable property: the in operator takes about the same amount of time no matter how many items there are in a dictionary.\n",
        "\n",
        "15. Can you modify the elements of a tuple? Explain why or why not.\n",
        "- We cannot modify the content of a tupe because a tuple is immutable. Once created, the items in a tuple cannot be changed.\n",
        "\n",
        "16. What is a nested dictionary, and give an example of its use case?\n",
        "- A nested dictionary in Python is a dictionary that contains another dictionary (or dictionaries) as its value.\n",
        "- nested_dict = { 'dictionary1': {'key_1': 'value_1'}, 'dictionary2': {'key_2': 'value_2'}}\n",
        "\n",
        "17.  Describe the time complexity of accessing elements in a dictionary?\n",
        "- The time complexity of dictionary operations in Python depends on the size of the dictionary and the specific operation being performed.\n",
        "- The time complexity of accessing a dictionary can degrade to O(n), or linear time, in certain scenarios. This occurs when there are many collisions, meaning multiple key-value pairs have the same hash value. In such cases, Python needs to perform key comparisons to find the correct pair, which takes additional time.\n",
        "\n",
        "18. In what situations are lists preferred over dictionaries?\n",
        "- Lists are often preferred when the order of items is important, and when operations like appending and extending are frequently used.\n",
        "\n",
        "19. Why are dictionaries considered unordered, and how does that affect data retrieval?\n",
        "- Dictionary is termed as an unordered collection of object because the printed order of elements is not same as the order in which the elements are stored.\n",
        "- We cannot index or slice them like ordered structures. Elements are stored and retrieved in the order of insertion. No guaranteed order of elements.\n",
        "\n",
        "20. Explain the difference between a list and a dictionary in terms of data retrieval.\n",
        "- A list is an ordered collection of items, whereas a dictionary is an unordered data collection in a key: value pair. Elements from the list can be accessed using the index, while the elements of the dictionary can be accessed using keys.\n",
        "\n",
        "\n"
      ],
      "metadata": {
        "id": "jyua7a7WH5Z9"
      }
    },
    {
      "cell_type": "markdown",
      "source": [
        "1. Write a code to create a string with your name and print it.\n"
      ],
      "metadata": {
        "id": "mfwJU239cvCf"
      }
    },
    {
      "cell_type": "code",
      "source": [
        "name = input(\"Please enter your name: \")\n",
        "print (\"My name is\" ,name)"
      ],
      "metadata": {
        "colab": {
          "base_uri": "https://localhost:8080/"
        },
        "id": "Av4D0YbicsI5",
        "outputId": "da7fb368-6c5a-432c-9971-7cbb1086c293"
      },
      "execution_count": 1,
      "outputs": [
        {
          "output_type": "stream",
          "name": "stdout",
          "text": [
            "Please enter your name: Anushka\n",
            "My name is  Anushka\n"
          ]
        }
      ]
    },
    {
      "cell_type": "markdown",
      "source": [
        "2. Write a code to find the length of the string \"Hello World\".\n"
      ],
      "metadata": {
        "id": "JZjfh5MwdLP9"
      }
    },
    {
      "cell_type": "code",
      "source": [
        "string = \"Hello World\"\n",
        "print(\"The length of string is\" ,len(string))"
      ],
      "metadata": {
        "colab": {
          "base_uri": "https://localhost:8080/"
        },
        "id": "6MiqyA5tdQpR",
        "outputId": "bf0dd2a0-977a-4004-fb97-6d3fe791a0e2"
      },
      "execution_count": 4,
      "outputs": [
        {
          "output_type": "stream",
          "name": "stdout",
          "text": [
            "The length of string is, 11\n"
          ]
        }
      ]
    },
    {
      "cell_type": "code",
      "source": [
        "string = \"Hello World\"\n",
        "count = 0\n",
        "for i in string:\n",
        "  count+=1\n",
        "print(\"The length of string is\" ,count)\n"
      ],
      "metadata": {
        "colab": {
          "base_uri": "https://localhost:8080/"
        },
        "id": "Rj7DGe7AeBwA",
        "outputId": "e7506c9b-9cf6-478c-f6a2-62b661dc5275"
      },
      "execution_count": 7,
      "outputs": [
        {
          "output_type": "stream",
          "name": "stdout",
          "text": [
            "The length of string is 11\n"
          ]
        }
      ]
    },
    {
      "cell_type": "markdown",
      "source": [
        "3. Write a code to slice the first 3 characters from the string \"Python Programming\".\n"
      ],
      "metadata": {
        "id": "CTIguC2aebv4"
      }
    },
    {
      "cell_type": "code",
      "source": [
        "word = \"Python Programming\"\n",
        "print (\"The sliced result is\" ,word[3:])"
      ],
      "metadata": {
        "colab": {
          "base_uri": "https://localhost:8080/"
        },
        "id": "0L0434R4ejYf",
        "outputId": "0cbff895-5f6c-4b56-978f-d82f1f8972ed"
      },
      "execution_count": 8,
      "outputs": [
        {
          "output_type": "stream",
          "name": "stdout",
          "text": [
            "The sliced result is hon Programming\n"
          ]
        }
      ]
    },
    {
      "cell_type": "code",
      "source": [
        "word = \"Python Programming\"\n",
        "count = 0\n",
        "new = \"\"\n",
        "for char in word:\n",
        "  count+=1\n",
        "  if count > 3:\n",
        "    new += char\n",
        "print(\"The sliced result is\" ,new)\n"
      ],
      "metadata": {
        "colab": {
          "base_uri": "https://localhost:8080/"
        },
        "id": "O32gThSsfB-u",
        "outputId": "fc691921-2ead-447f-ae91-6835c11f22dc"
      },
      "execution_count": 18,
      "outputs": [
        {
          "output_type": "stream",
          "name": "stdout",
          "text": [
            "The sliced result is hon Programming\n"
          ]
        }
      ]
    },
    {
      "cell_type": "markdown",
      "source": [
        "4. Write a code to convert the string \"hello\" to uppercase.\n"
      ],
      "metadata": {
        "id": "Ett0I16hhpAo"
      }
    },
    {
      "cell_type": "code",
      "source": [
        "word = \"hello\"\n",
        "print (\"Converted to uppercase\" ,word.upper())"
      ],
      "metadata": {
        "colab": {
          "base_uri": "https://localhost:8080/"
        },
        "id": "mBrXBGCXh8Yq",
        "outputId": "89989ee9-ce1c-42cb-ad1c-49b2effbd753"
      },
      "execution_count": 19,
      "outputs": [
        {
          "output_type": "stream",
          "name": "stdout",
          "text": [
            "Converted to uppercase HELLO\n"
          ]
        }
      ]
    },
    {
      "cell_type": "markdown",
      "source": [
        "5. Write a code to replace the word \"apple\" with \"orange\" in the string \"I\n",
        " like apple\"\n"
      ],
      "metadata": {
        "id": "H_ts5VhFiRiv"
      }
    },
    {
      "cell_type": "code",
      "source": [
        "string = \"I like apple\"\n",
        "print (string.replace(\"apple\", \"orange\"))"
      ],
      "metadata": {
        "colab": {
          "base_uri": "https://localhost:8080/"
        },
        "id": "2P7d0q7hikIX",
        "outputId": "8f8e9d8e-41c5-42ce-f1a3-10ae9678c001"
      },
      "execution_count": 20,
      "outputs": [
        {
          "output_type": "stream",
          "name": "stdout",
          "text": [
            "I like orange\n"
          ]
        }
      ]
    },
    {
      "cell_type": "markdown",
      "source": [
        "6.  Write a code to create a list with numbers 1 to 5 and print it.\n"
      ],
      "metadata": {
        "id": "rPxLPUCiiwwa"
      }
    },
    {
      "cell_type": "code",
      "source": [
        "n=5\n",
        "my_list=[]\n",
        "for i in range (1,n+1):\n",
        "  my_list.append(i)\n",
        "print(\"The required list is\" ,my_list)\n"
      ],
      "metadata": {
        "colab": {
          "base_uri": "https://localhost:8080/"
        },
        "id": "IAujFNfTi1N8",
        "outputId": "7a5e7d1f-71a7-4fbb-d173-1d93a67daad8"
      },
      "execution_count": 24,
      "outputs": [
        {
          "output_type": "stream",
          "name": "stdout",
          "text": [
            "The required list is [1, 2, 3, 4, 5]\n"
          ]
        }
      ]
    },
    {
      "cell_type": "markdown",
      "source": [
        "7. Write a code to append the number 10 to the list [1, 2, 3, 4].\n"
      ],
      "metadata": {
        "id": "s0k20PKGspUf"
      }
    },
    {
      "cell_type": "code",
      "source": [
        "new_list= [1,2,3,4]\n",
        "new_list.append(10)\n",
        "print(\"The new list is\" , new_list)\n"
      ],
      "metadata": {
        "colab": {
          "base_uri": "https://localhost:8080/"
        },
        "id": "_b-h0xUGtXa2",
        "outputId": "da0a411b-7847-4d07-b7c0-69cb121de268"
      },
      "execution_count": 27,
      "outputs": [
        {
          "output_type": "stream",
          "name": "stdout",
          "text": [
            "The new list is [1, 2, 3, 4, 10]\n"
          ]
        }
      ]
    },
    {
      "cell_type": "markdown",
      "source": [
        "8. Write a code to remove the number 3 from the list [1, 2, 3, 4, 5]."
      ],
      "metadata": {
        "id": "84EMnBRguTtb"
      }
    },
    {
      "cell_type": "code",
      "source": [
        "mylist =[1,2,3,4,5]\n",
        "mylist.remove(3)\n",
        "print (\"The new list is\" ,mylist)"
      ],
      "metadata": {
        "colab": {
          "base_uri": "https://localhost:8080/"
        },
        "id": "dik1-XFvvjj2",
        "outputId": "0d6e3b5a-c627-476a-d871-3925121d43ab"
      },
      "execution_count": 28,
      "outputs": [
        {
          "output_type": "stream",
          "name": "stdout",
          "text": [
            "The new list is [1, 2, 4, 5]\n"
          ]
        }
      ]
    },
    {
      "cell_type": "markdown",
      "source": [
        "9. Write a code to access the second element in the list ['a', 'b', 'c', 'd'].\n",
        "\n"
      ],
      "metadata": {
        "id": "1UrIGUWovyjd"
      }
    },
    {
      "cell_type": "code",
      "source": [
        "mylist = ['a','b','c', 'd']\n",
        "print (\"The second element is\" ,mylist[1])\n"
      ],
      "metadata": {
        "colab": {
          "base_uri": "https://localhost:8080/"
        },
        "id": "hlGjGNR6wAw6",
        "outputId": "523eafae-a23d-446a-84f4-07287f99c6c2"
      },
      "execution_count": 30,
      "outputs": [
        {
          "output_type": "stream",
          "name": "stdout",
          "text": [
            "The second element is b\n"
          ]
        }
      ]
    },
    {
      "cell_type": "markdown",
      "source": [
        "10. Write a code to reverse the list [10, 20, 30, 40, 50].\n"
      ],
      "metadata": {
        "id": "N-ShQeKfwian"
      }
    },
    {
      "cell_type": "code",
      "source": [
        "mylist = [10,20,30,40,50]\n",
        "mylist.reverse()\n",
        "print (\"The reversed list is\" ,mylist)"
      ],
      "metadata": {
        "colab": {
          "base_uri": "https://localhost:8080/"
        },
        "id": "J8IsqqGdwqP1",
        "outputId": "f54d6e32-ce07-4422-a293-53562773a5b9"
      },
      "execution_count": 32,
      "outputs": [
        {
          "output_type": "stream",
          "name": "stdout",
          "text": [
            "The reversed list is [50, 40, 30, 20, 10]\n"
          ]
        }
      ]
    },
    {
      "cell_type": "code",
      "source": [
        "mylist = [10,20,30,40,50]\n",
        "newlist=[]\n",
        "for i in range(len(mylist)-1,-1,-1):\n",
        "  newlist.append(mylist[i])\n",
        "print(\"The reversed list is\" ,newlist)"
      ],
      "metadata": {
        "colab": {
          "base_uri": "https://localhost:8080/"
        },
        "id": "Ssq5uMGzxBu_",
        "outputId": "98481a43-b52f-4c3a-9764-1b6f122f891c"
      },
      "execution_count": 39,
      "outputs": [
        {
          "output_type": "stream",
          "name": "stdout",
          "text": [
            "The reversed list is [50, 40, 30, 20, 10]\n"
          ]
        }
      ]
    },
    {
      "cell_type": "markdown",
      "source": [
        "11.  Write a code to create a tuple with the elements 100, 200, 300 and print it.\n"
      ],
      "metadata": {
        "id": "SnUL8IaZyEgA"
      }
    },
    {
      "cell_type": "code",
      "source": [
        "\n",
        "mytuple = (100,200,300)\n",
        "print (\"The required tuple is\" ,mytuple)"
      ],
      "metadata": {
        "colab": {
          "base_uri": "https://localhost:8080/"
        },
        "id": "NingFUqs0OLm",
        "outputId": "7c4b4497-8db8-4e50-ae55-9754359a3369"
      },
      "execution_count": 40,
      "outputs": [
        {
          "output_type": "stream",
          "name": "stdout",
          "text": [
            "The required tuple is (100, 200, 300)\n"
          ]
        }
      ]
    },
    {
      "cell_type": "markdown",
      "source": [
        " 12. Write a code to access the second-to-last element of the tuple ('red', 'green', 'blue', 'yellow')."
      ],
      "metadata": {
        "id": "K-yNBjBE0aOa"
      }
    },
    {
      "cell_type": "code",
      "source": [
        "mytuple = ('red', 'green', 'blue', 'yellow')\n",
        "print (\"The second-to-last element is\" ,mytuple[-2])"
      ],
      "metadata": {
        "colab": {
          "base_uri": "https://localhost:8080/"
        },
        "id": "tsSwrMbD0f0P",
        "outputId": "dc004cd0-6cc6-4d47-9be8-1113f58ed484"
      },
      "execution_count": 43,
      "outputs": [
        {
          "output_type": "stream",
          "name": "stdout",
          "text": [
            "The second-to-last element is blue\n"
          ]
        }
      ]
    },
    {
      "cell_type": "markdown",
      "source": [
        "13. Write a code to find the minimum number in the tuple (10, 20, 5, 15).\n"
      ],
      "metadata": {
        "id": "ERHWfEdz0-3L"
      }
    },
    {
      "cell_type": "code",
      "source": [
        "mytuple =(10, 20, 5, 15)\n",
        "for i in range(0,len(mytuple)-1):\n",
        "  if mytuple[i]<=mytuple[i+1]:\n",
        "    newterm= mytuple[i]\n",
        "  else:\n",
        "    newterm= mytuple[i+1]\n",
        "print (\"The minimum number is\" ,newterm)"
      ],
      "metadata": {
        "colab": {
          "base_uri": "https://localhost:8080/"
        },
        "id": "avPe8k5O1E4V",
        "outputId": "839c66c6-da7d-4a83-da45-79b245a4ed42"
      },
      "execution_count": 48,
      "outputs": [
        {
          "output_type": "stream",
          "name": "stdout",
          "text": [
            "The minimum number is 5\n"
          ]
        }
      ]
    },
    {
      "cell_type": "markdown",
      "source": [
        " 14. Write a code to find the index of the element \"cat\" in the tuple ('dog', 'cat', 'rabbit').\n",
        ""
      ],
      "metadata": {
        "id": "11lZGPqu3LLu"
      }
    },
    {
      "cell_type": "code",
      "source": [
        "ntuple = ('dog', 'cat', 'rabbit')\n",
        "for i in range (0, len(ntuple)):\n",
        "  if ntuple[i] == \"cat\":\n",
        "    print (\"The index of cat is\" ,i)"
      ],
      "metadata": {
        "colab": {
          "base_uri": "https://localhost:8080/"
        },
        "id": "sRGn2QwF3cgO",
        "outputId": "70429b2b-0861-43ff-a96b-05a242701331"
      },
      "execution_count": 49,
      "outputs": [
        {
          "output_type": "stream",
          "name": "stdout",
          "text": [
            "The index of cat is 1\n"
          ]
        }
      ]
    },
    {
      "cell_type": "markdown",
      "source": [
        "15. Write a code to create a tuple containing three different fruits and check if \"kiwi\" is in it.\n"
      ],
      "metadata": {
        "id": "_D4_vd-4322u"
      }
    },
    {
      "cell_type": "code",
      "source": [
        "mytuple=()\n",
        "for i in range (0,3):\n",
        "  mytuple += (input(\"Enter the name of any fruit \"),)\n",
        "print(\"The tuple for fruits is\" ,mytuple)\n",
        "for j in range(0,3):\n",
        "  if mytuple[j] == \"kiwi\":\n",
        "    print (\"kiwi is in the tuple\")\n",
        "\n"
      ],
      "metadata": {
        "colab": {
          "base_uri": "https://localhost:8080/"
        },
        "id": "S_G4-wSQ4MmV",
        "outputId": "79f4559f-e15f-4215-a004-7a00911ce03f"
      },
      "execution_count": 57,
      "outputs": [
        {
          "output_type": "stream",
          "name": "stdout",
          "text": [
            "Enter the name of any fruit  apple\n",
            "Enter the name of any fruit banana\n",
            "Enter the name of any fruit kiwi\n",
            "The tuple for fruits is (' apple', 'banana', 'kiwi')\n",
            "kiwi is in the tuple\n"
          ]
        }
      ]
    },
    {
      "cell_type": "markdown",
      "source": [
        "16. Write a code to create a set with the elements 'a', 'b', 'c' and print it.\n"
      ],
      "metadata": {
        "id": "rAomChl96vYw"
      }
    },
    {
      "cell_type": "code",
      "source": [
        "myset={'a','b','c'}\n",
        "print(\"The required set is\" ,myset)"
      ],
      "metadata": {
        "colab": {
          "base_uri": "https://localhost:8080/"
        },
        "id": "TQRWq00464ic",
        "outputId": "479d5a69-4f8a-4cfe-d196-cf4df335e087"
      },
      "execution_count": 1,
      "outputs": [
        {
          "output_type": "stream",
          "name": "stdout",
          "text": [
            "The required set is {'c', 'b', 'a'}\n"
          ]
        }
      ]
    },
    {
      "cell_type": "markdown",
      "source": [
        "17. Write a code to clear all elements from the set {1, 2, 3, 4, 5}.\n"
      ],
      "metadata": {
        "id": "Y7u8HD0UvBnx"
      }
    },
    {
      "cell_type": "code",
      "source": [
        "myset = {1,2,3,4,5}\n",
        "myset.clear()\n",
        "print(\"The new set is\" ,myset)"
      ],
      "metadata": {
        "colab": {
          "base_uri": "https://localhost:8080/"
        },
        "id": "WG_1ZKkmvF_l",
        "outputId": "34f7a2a8-c41d-4346-8fe4-8515900088c2"
      },
      "execution_count": 2,
      "outputs": [
        {
          "output_type": "stream",
          "name": "stdout",
          "text": [
            "The new set is set()\n"
          ]
        }
      ]
    },
    {
      "cell_type": "markdown",
      "source": [
        "18. Write a code to remove the element 4 from the set {1, 2, 3, 4}."
      ],
      "metadata": {
        "id": "vcJrrP2TvYEQ"
      }
    },
    {
      "cell_type": "code",
      "source": [
        "myset = {1,2,3,4}\n",
        "myset.discard(4)\n",
        "print(\"The new set is\" ,myset)"
      ],
      "metadata": {
        "colab": {
          "base_uri": "https://localhost:8080/"
        },
        "id": "YWgxYOIhvcnm",
        "outputId": "ba137b2a-60fa-4416-f13d-e23761f0c9c4"
      },
      "execution_count": 3,
      "outputs": [
        {
          "output_type": "stream",
          "name": "stdout",
          "text": [
            "The new set is {1, 2, 3}\n"
          ]
        }
      ]
    },
    {
      "cell_type": "markdown",
      "source": [
        "19.  Write a code to find the union of two sets {1, 2, 3} and {3, 4, 5}."
      ],
      "metadata": {
        "id": "Ptb0ZatxvpHa"
      }
    },
    {
      "cell_type": "code",
      "source": [
        "setA ={1,2,3}\n",
        "setB ={3,4,5}\n",
        "print(\"The union of the two sets A and B is\" ,setA.union(setB))"
      ],
      "metadata": {
        "colab": {
          "base_uri": "https://localhost:8080/"
        },
        "id": "a7ovL_LZvtDZ",
        "outputId": "b6ce269a-41b9-4480-91c4-9f8d13d90ff7"
      },
      "execution_count": 4,
      "outputs": [
        {
          "output_type": "stream",
          "name": "stdout",
          "text": [
            "The union of the two sets A and B is {1, 2, 3, 4, 5}\n"
          ]
        }
      ]
    },
    {
      "cell_type": "markdown",
      "source": [
        "20. Write a code to find the intersection of two sets {1, 2, 3} and {2, 3, 4}.\n"
      ],
      "metadata": {
        "id": "2EFV706KwJ96"
      }
    },
    {
      "cell_type": "code",
      "source": [
        "setA= {1,2,3}\n",
        "setB= {2,3,4}\n",
        "print(\"The intersection of the two sets A and B is\" ,setA.intersection(setB))"
      ],
      "metadata": {
        "colab": {
          "base_uri": "https://localhost:8080/"
        },
        "id": "HgaZxIj4wOwx",
        "outputId": "f7f6a1aa-9d69-45cb-d3f7-28a381961837"
      },
      "execution_count": 5,
      "outputs": [
        {
          "output_type": "stream",
          "name": "stdout",
          "text": [
            "The intersection of the two sets A and B is {2, 3}\n"
          ]
        }
      ]
    },
    {
      "cell_type": "markdown",
      "source": [
        "21.  Write a code to create a dictionary with the keys \"name\", \"age\", and \"city\", and print it.\n"
      ],
      "metadata": {
        "id": "UgZOhGS1wmP3"
      }
    },
    {
      "cell_type": "code",
      "source": [
        "mydict= {'name': 'Anushka', 'age': 21, 'city': 'Bokaro'}\n",
        "print(\"The given dictionary is\" ,mydict)"
      ],
      "metadata": {
        "colab": {
          "base_uri": "https://localhost:8080/"
        },
        "id": "tJwrOyXJwvzc",
        "outputId": "89200022-9a62-4594-99f6-d6e6b859a8e7"
      },
      "execution_count": 6,
      "outputs": [
        {
          "output_type": "stream",
          "name": "stdout",
          "text": [
            "The given dictionary is {'name': 'Anushka', 'age': 21, 'city': 'Bokaro'}\n"
          ]
        }
      ]
    },
    {
      "cell_type": "markdown",
      "source": [
        "22. Write a code to add a new key-value pair \"country\": \"USA\" to the dictionary {'name': 'John', 'age': 25}.\n"
      ],
      "metadata": {
        "id": "9kow9K3exSIs"
      }
    },
    {
      "cell_type": "code",
      "source": [
        "mydict = {'name': 'John', 'age': 25}\n",
        "mydict.update({'country': 'USA'})\n",
        "print (\"The updated dictionary is\" ,mydict)"
      ],
      "metadata": {
        "colab": {
          "base_uri": "https://localhost:8080/"
        },
        "id": "Nk3n7jwlxc4k",
        "outputId": "d9b3ab66-9c1c-4b47-bc9b-8a2a610c175d"
      },
      "execution_count": 15,
      "outputs": [
        {
          "output_type": "stream",
          "name": "stdout",
          "text": [
            "The updated dictionary is {'name': 'John', 'age': 25, 'country': 'USA'}\n"
          ]
        }
      ]
    },
    {
      "cell_type": "markdown",
      "source": [
        "23. Write a code to access the value associated with the key \"name\" in the dictionary {'name': 'Alice', 'age': 30}.\n"
      ],
      "metadata": {
        "id": "YM7OTG_zx40c"
      }
    },
    {
      "cell_type": "code",
      "source": [
        "mydict= {'name': 'Alice', 'age': 30}\n",
        "print (\"The value associated with name is\" ,mydict.get('name'))"
      ],
      "metadata": {
        "colab": {
          "base_uri": "https://localhost:8080/"
        },
        "id": "sVs0yoNeyTy5",
        "outputId": "9bd6f230-8be0-49bc-cbba-5099445e1394"
      },
      "execution_count": 9,
      "outputs": [
        {
          "output_type": "stream",
          "name": "stdout",
          "text": [
            "The value associated with name is Alice\n"
          ]
        }
      ]
    },
    {
      "cell_type": "markdown",
      "source": [
        "24. Write a code to remove the key \"age\" from the dictionary {'name': 'Bob', 'age': 22, 'city': 'New York'}.\n"
      ],
      "metadata": {
        "id": "bCblfqsyyl_J"
      }
    },
    {
      "cell_type": "code",
      "source": [
        "mydict =  {'name': 'Bob', 'age': 22, 'city': 'New York'}\n",
        "mydict.pop('age')\n",
        "print(\"The new dictioary is\" ,mydict)"
      ],
      "metadata": {
        "colab": {
          "base_uri": "https://localhost:8080/"
        },
        "id": "JqZBF2h0ytc8",
        "outputId": "4d65ca75-4598-4095-fe9f-ff49bd7c46a8"
      },
      "execution_count": 14,
      "outputs": [
        {
          "output_type": "stream",
          "name": "stdout",
          "text": [
            "The new dictioary is {'name': 'Bob', 'city': 'New York'}\n"
          ]
        }
      ]
    },
    {
      "cell_type": "markdown",
      "source": [
        "25. Write a code to check if the key \"city\" exists in the dictionary {'name': 'Alice', 'city': 'Paris'}."
      ],
      "metadata": {
        "id": "eBuMjSCxzjlK"
      }
    },
    {
      "cell_type": "code",
      "source": [
        "mydict =  {'name': 'Alice', 'city': 'Paris'}\n",
        "if 'city' in mydict:\n",
        "  print(\"The key city exists in the dictionary\")\n",
        "else:\n",
        "  print(\"The key city does not exist in the dictionary\")"
      ],
      "metadata": {
        "colab": {
          "base_uri": "https://localhost:8080/"
        },
        "id": "DjjnWUURzsC-",
        "outputId": "9eac73c7-7bff-409b-dad4-71b0b68ced2d"
      },
      "execution_count": 16,
      "outputs": [
        {
          "output_type": "stream",
          "name": "stdout",
          "text": [
            "The key city exists in the dictionary\n"
          ]
        }
      ]
    },
    {
      "cell_type": "markdown",
      "source": [
        "26. Write a code to create a list, a tuple, and a dictionary, and print them all.\n"
      ],
      "metadata": {
        "id": "xKQZ4f5b0BSt"
      }
    },
    {
      "cell_type": "code",
      "source": [
        "mylist = ['a','b','c']\n",
        "mytuple = (1,2,3,)\n",
        "mydict = {'a':1, 'b':2, 'c':3}\n",
        "print(\"The list is\" ,mylist)\n",
        "print(\"The tuple is\" ,mytuple)\n",
        "print(\"The dictionary is\" ,mydict)"
      ],
      "metadata": {
        "colab": {
          "base_uri": "https://localhost:8080/"
        },
        "id": "Cd2ysJf70G-2",
        "outputId": "73ad5d8a-0f61-4555-b188-b34f8e7e9144"
      },
      "execution_count": 17,
      "outputs": [
        {
          "output_type": "stream",
          "name": "stdout",
          "text": [
            "The list is ['a', 'b', 'c']\n",
            "The tuple is (1, 2, 3)\n",
            "The dictionary is {'a': 1, 'b': 2, 'c': 3}\n"
          ]
        }
      ]
    },
    {
      "cell_type": "markdown",
      "source": [
        "27.  Write a code to create a list of 5 random numbers between 1 and 100, sort it in ascending order, and print the\n",
        "result.(replaced)"
      ],
      "metadata": {
        "id": "S6VYDbve0Y-C"
      }
    },
    {
      "cell_type": "code",
      "source": [
        "from random import randint\n",
        "mylist=[]\n",
        "for i in range (0,5):\n",
        "  mylist.append(randint(1,100))\n",
        "print (\"The list is of random numbers is\" ,mylist)\n",
        "mylist.sort()\n",
        "print (\"The sorted list is\" ,mylist)"
      ],
      "metadata": {
        "colab": {
          "base_uri": "https://localhost:8080/"
        },
        "id": "TNrU0qS20ucP",
        "outputId": "91ce1e53-7664-494a-84af-f3fc77772535"
      },
      "execution_count": 18,
      "outputs": [
        {
          "output_type": "stream",
          "name": "stdout",
          "text": [
            "The list is of random numbers is [6, 82, 5, 50, 31]\n",
            "The sorted list is [5, 6, 31, 50, 82]\n"
          ]
        }
      ]
    },
    {
      "cell_type": "markdown",
      "source": [
        "28. Write a code to create a list with strings and print the element at the third index.\n"
      ],
      "metadata": {
        "id": "kXF-caGc2KHn"
      }
    },
    {
      "cell_type": "code",
      "source": [
        "mylist = ['flower', 'icecream', 'chocolates', 'music' , 'sleeping']\n",
        "print(\"The list with strings is\" ,mylist)\n",
        "print(\"The element at the third index is\" ,mylist[2])"
      ],
      "metadata": {
        "colab": {
          "base_uri": "https://localhost:8080/"
        },
        "id": "MRpG0cm82NyM",
        "outputId": "95bf6478-92d2-4802-f787-a6345be29c89"
      },
      "execution_count": 19,
      "outputs": [
        {
          "output_type": "stream",
          "name": "stdout",
          "text": [
            "The list with strings is ['flower', 'icecream', 'chocolates', 'music', 'sleeping']\n",
            "The element at the third index is chocolates\n"
          ]
        }
      ]
    },
    {
      "cell_type": "markdown",
      "source": [
        "29.  Write a code to combine two dictionaries into one and print the result."
      ],
      "metadata": {
        "id": "9f7N4Lwz3UR9"
      }
    },
    {
      "cell_type": "code",
      "source": [
        "dictA= {'a':1, 'b':2, 'c':3}\n",
        "dictB= {'d':4, 'e':5, 'f':6}\n",
        "dictA.update(dictB)\n",
        "print(\"The combined dictionary is\" ,dictA)"
      ],
      "metadata": {
        "colab": {
          "base_uri": "https://localhost:8080/"
        },
        "id": "XPUUVqho3gzD",
        "outputId": "579a1f8b-63f3-4316-d786-c457bff7db29"
      },
      "execution_count": 20,
      "outputs": [
        {
          "output_type": "stream",
          "name": "stdout",
          "text": [
            "The combined dictionary is {'a': 1, 'b': 2, 'c': 3, 'd': 4, 'e': 5, 'f': 6}\n"
          ]
        }
      ]
    },
    {
      "cell_type": "markdown",
      "source": [
        "30. Write a code to convert a list of strings into a set."
      ],
      "metadata": {
        "id": "_SyhSgyt3rgU"
      }
    },
    {
      "cell_type": "code",
      "source": [
        "mylist = ['flower', 'icecream', 'chocolates', 'music' , 'sleeping']\n",
        "myset =set()\n",
        "for i in range(len(mylist)):\n",
        "  myset.add(mylist[i])\n",
        "print(\"The converted set is\" ,myset)"
      ],
      "metadata": {
        "colab": {
          "base_uri": "https://localhost:8080/"
        },
        "id": "0TLY6-nM3v2Y",
        "outputId": "fe8587a4-692c-4c36-aac6-235c97248079"
      },
      "execution_count": 22,
      "outputs": [
        {
          "output_type": "stream",
          "name": "stdout",
          "text": [
            "The converted set is {'flower', 'music', 'sleeping', 'icecream', 'chocolates'}\n"
          ]
        }
      ]
    }
  ]
}